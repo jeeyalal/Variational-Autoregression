{
  "nbformat": 4,
  "nbformat_minor": 0,
  "metadata": {
    "colab": {
      "provenance": [],
      "authorship_tag": "ABX9TyPhHTzoCBeY16WAPowcrwvJ",
      "include_colab_link": true
    },
    "kernelspec": {
      "name": "python3",
      "display_name": "Python 3"
    },
    "language_info": {
      "name": "python"
    }
  },
  "cells": [
    {
      "cell_type": "markdown",
      "metadata": {
        "id": "view-in-github",
        "colab_type": "text"
      },
      "source": [
        "<a href=\"https://colab.research.google.com/github/jeeyalal/Variational-Autoregression/blob/main/Var.ipynb\" target=\"_parent\"><img src=\"https://colab.research.google.com/assets/colab-badge.svg\" alt=\"Open In Colab\"/></a>"
      ]
    },
    {
      "cell_type": "code",
      "execution_count": 1,
      "metadata": {
        "id": "UyPejLm1aJ0v"
      },
      "outputs": [],
      "source": [
        "import numpy as np\n",
        "\n",
        "import tensorflow as tf\n",
        "\n",
        "import keras\n",
        "\n",
        "from keras import layers"
      ]
    },
    {
      "cell_type": "code",
      "source": [
        "class Sampling(layers.Layer):\n",
        "\n",
        "    \"\"\"Uses (mean, log_var) to sample z, the vector encoding a digit.\"\"\"\n",
        "\n",
        "\n",
        "    def call(self, inputs):\n",
        "\n",
        "        mean, log_var = inputs\n",
        "\n",
        "        batch = tf.shape(mean)[0]\n",
        "\n",
        "        dim = tf.shape(mean)[1]\n",
        "\n",
        "        epsilon = tf.random.normal(shape=(batch, dim))\n",
        "\n",
        "        return mean + tf.exp(0.5 * log_var) * epsilon"
      ],
      "metadata": {
        "id": "0XCA82wYaWty"
      },
      "execution_count": 2,
      "outputs": []
    },
    {
      "cell_type": "code",
      "source": [
        "latent_dim = 2\n",
        "\n",
        "\n",
        "encoder_inputs = keras.Input(shape=(28, 28, 1))\n",
        "\n",
        "x = layers.Conv2D(64, 3, activation=\"relu\", strides=2, padding=\"same\")(encoder_inputs)\n",
        "\n",
        "x = layers.Conv2D(128, 3, activation=\"relu\", strides=2, padding=\"same\")(x)\n",
        "\n",
        "x = layers.Flatten()(x)\n",
        "\n",
        "x = layers.Dense(16, activation=\"relu\")(x)\n",
        "\n",
        "mean = layers.Dense(latent_dim, name=\"mean\")(x)\n",
        "\n",
        "log_var = layers.Dense(latent_dim, name=\"log_var\")(x)\n",
        "\n",
        "z = Sampling()([mean, log_var])\n",
        "\n",
        "encoder = keras.Model(encoder_inputs, [mean, log_var, z], name=\"encoder\")\n",
        "encoder.summary()"
      ],
      "metadata": {
        "colab": {
          "base_uri": "https://localhost:8080/"
        },
        "id": "ni1rG6ibaaqt",
        "outputId": "ae068f6e-96dd-4b0d-87ce-1d1437e58ec0"
      },
      "execution_count": 3,
      "outputs": [
        {
          "output_type": "stream",
          "name": "stdout",
          "text": [
            "Model: \"encoder\"\n",
            "__________________________________________________________________________________________________\n",
            " Layer (type)                Output Shape                 Param #   Connected to                  \n",
            "==================================================================================================\n",
            " input_1 (InputLayer)        [(None, 28, 28, 1)]          0         []                            \n",
            "                                                                                                  \n",
            " conv2d (Conv2D)             (None, 14, 14, 64)           640       ['input_1[0][0]']             \n",
            "                                                                                                  \n",
            " conv2d_1 (Conv2D)           (None, 7, 7, 128)            73856     ['conv2d[0][0]']              \n",
            "                                                                                                  \n",
            " flatten (Flatten)           (None, 6272)                 0         ['conv2d_1[0][0]']            \n",
            "                                                                                                  \n",
            " dense (Dense)               (None, 16)                   100368    ['flatten[0][0]']             \n",
            "                                                                                                  \n",
            " mean (Dense)                (None, 2)                    34        ['dense[0][0]']               \n",
            "                                                                                                  \n",
            " log_var (Dense)             (None, 2)                    34        ['dense[0][0]']               \n",
            "                                                                                                  \n",
            " sampling (Sampling)         (None, 2)                    0         ['mean[0][0]',                \n",
            "                                                                     'log_var[0][0]']             \n",
            "                                                                                                  \n",
            "==================================================================================================\n",
            "Total params: 174932 (683.33 KB)\n",
            "Trainable params: 174932 (683.33 KB)\n",
            "Non-trainable params: 0 (0.00 Byte)\n",
            "__________________________________________________________________________________________________\n"
          ]
        }
      ]
    },
    {
      "cell_type": "code",
      "source": [
        "latent_inputs = keras.Input(shape=(latent_dim,))\n",
        "\n",
        "x = layers.Dense(7 * 7 * 64, activation=\"relu\")(latent_inputs)\n",
        "\n",
        "x = layers.Reshape((7, 7, 64))(x)\n",
        "\n",
        "x = layers.Conv2DTranspose(128, 3, activation=\"relu\", strides=2, padding=\"same\")(x)\n",
        "\n",
        "x = layers.Conv2DTranspose(64, 3, activation=\"relu\", strides=2, padding=\"same\")(x)\n",
        "\n",
        "decoder_outputs = layers.Conv2DTranspose(1, 3, activation=\"sigmoid\", padding=\"same\")(x)\n",
        "\n",
        "decoder = keras.Model(latent_inputs, decoder_outputs, name=\"decoder\")\n",
        "decoder.summary()"
      ],
      "metadata": {
        "colab": {
          "base_uri": "https://localhost:8080/"
        },
        "id": "lkc0ghomaga_",
        "outputId": "751f1d2b-ebed-4eda-db8d-bb45c284c1bb"
      },
      "execution_count": 4,
      "outputs": [
        {
          "output_type": "stream",
          "name": "stdout",
          "text": [
            "Model: \"decoder\"\n",
            "_________________________________________________________________\n",
            " Layer (type)                Output Shape              Param #   \n",
            "=================================================================\n",
            " input_2 (InputLayer)        [(None, 2)]               0         \n",
            "                                                                 \n",
            " dense_1 (Dense)             (None, 3136)              9408      \n",
            "                                                                 \n",
            " reshape (Reshape)           (None, 7, 7, 64)          0         \n",
            "                                                                 \n",
            " conv2d_transpose (Conv2DTr  (None, 14, 14, 128)       73856     \n",
            " anspose)                                                        \n",
            "                                                                 \n",
            " conv2d_transpose_1 (Conv2D  (None, 28, 28, 64)        73792     \n",
            " Transpose)                                                      \n",
            "                                                                 \n",
            " conv2d_transpose_2 (Conv2D  (None, 28, 28, 1)         577       \n",
            " Transpose)                                                      \n",
            "                                                                 \n",
            "=================================================================\n",
            "Total params: 157633 (615.75 KB)\n",
            "Trainable params: 157633 (615.75 KB)\n",
            "Non-trainable params: 0 (0.00 Byte)\n",
            "_________________________________________________________________\n"
          ]
        }
      ]
    },
    {
      "cell_type": "code",
      "source": [
        "class VAE(keras.Model):\n",
        "\n",
        "    def __init__(self, encoder, decoder, **kwargs):\n",
        "\n",
        "        super().__init__(**kwargs)\n",
        "\n",
        "        self.encoder = encoder\n",
        "\n",
        "        self.decoder = decoder\n",
        "\n",
        "        self.total_loss_tracker = keras.metrics.Mean(name=\"total_loss\")\n",
        "\n",
        "        self.reconstruction_loss_tracker = keras.metrics.Mean(\n",
        "\n",
        "            name=\"reconstruction_loss\"\n",
        "\n",
        "        )\n",
        "\n",
        "        self.kl_loss_tracker = keras.metrics.Mean(name=\"kl_loss\")\n",
        "\n",
        "\n",
        "    @property\n",
        "\n",
        "    def metrics(self):\n",
        "\n",
        "        return [\n",
        "\n",
        "            self.total_loss_tracker,\n",
        "\n",
        "            self.reconstruction_loss_tracker,\n",
        "\n",
        "            self.kl_loss_tracker,\n",
        "\n",
        "        ]\n",
        "\n",
        "\n",
        "    def train_step(self, data):\n",
        "\n",
        "        with tf.GradientTape() as tape:\n",
        "\n",
        "            mean,log_var, z = self.encoder(data)\n",
        "\n",
        "            reconstruction = self.decoder(z)\n",
        "\n",
        "            reconstruction_loss = tf.reduce_mean(\n",
        "\n",
        "                tf.reduce_sum(\n",
        "\n",
        "                    keras.losses.binary_crossentropy(data, reconstruction),\n",
        "\n",
        "                    axis=(1, 2),\n",
        "\n",
        "                )\n",
        "\n",
        "            )\n",
        "\n",
        "            kl_loss = -0.5 * (1 + log_var - tf.square(mean) - tf.exp(log_var))\n",
        "\n",
        "            kl_loss = tf.reduce_mean(tf.reduce_sum(kl_loss, axis=1))\n",
        "\n",
        "            total_loss = reconstruction_loss + kl_loss\n",
        "\n",
        "        grads = tape.gradient(total_loss, self.trainable_weights)\n",
        "\n",
        "        self.optimizer.apply_gradients(zip(grads, self.trainable_weights))\n",
        "\n",
        "        self.total_loss_tracker.update_state(total_loss)\n",
        "\n",
        "        self.reconstruction_loss_tracker.update_state(reconstruction_loss)\n",
        "\n",
        "        self.kl_loss_tracker.update_state(kl_loss)\n",
        "\n",
        "        return {\n",
        "\n",
        "            \"loss\": self.total_loss_tracker.result(),\n",
        "\n",
        "            \"reconstruction_loss\": self.reconstruction_loss_tracker.result(),\n",
        "\n",
        "            \"kl_loss\": self.kl_loss_tracker.result(),\n",
        "\n",
        "        }"
      ],
      "metadata": {
        "id": "EFmXEG3EanCi"
      },
      "execution_count": 5,
      "outputs": []
    },
    {
      "cell_type": "code",
      "source": [
        "(x_train, _), (x_test, _) = keras.datasets.fashion_mnist.load_data()\n",
        "\n",
        "fashion_mnist = np.concatenate([x_train, x_test], axis=0)\n",
        "\n",
        "fashion_mnist = np.expand_dims(fashion_mnist, -1).astype(\"float32\") / 255\n",
        "\n",
        "\n",
        "vae = VAE(encoder, decoder)\n",
        "\n",
        "vae.compile(optimizer=keras.optimizers.Adam())\n",
        "\n",
        "vae.fit(fashion_mnist, epochs=1, batch_size=12)"
      ],
      "metadata": {
        "colab": {
          "base_uri": "https://localhost:8080/"
        },
        "id": "y1EvMiwla0iS",
        "outputId": "2265ffa4-1629-4910-ce8d-36114bdcbb77"
      },
      "execution_count": 6,
      "outputs": [
        {
          "output_type": "stream",
          "name": "stdout",
          "text": [
            "Downloading data from https://storage.googleapis.com/tensorflow/tf-keras-datasets/train-labels-idx1-ubyte.gz\n",
            "29515/29515 [==============================] - 0s 0us/step\n",
            "Downloading data from https://storage.googleapis.com/tensorflow/tf-keras-datasets/train-images-idx3-ubyte.gz\n",
            "26421880/26421880 [==============================] - 0s 0us/step\n",
            "Downloading data from https://storage.googleapis.com/tensorflow/tf-keras-datasets/t10k-labels-idx1-ubyte.gz\n",
            "5148/5148 [==============================] - 0s 0us/step\n",
            "Downloading data from https://storage.googleapis.com/tensorflow/tf-keras-datasets/t10k-images-idx3-ubyte.gz\n",
            "4422102/4422102 [==============================] - 0s 0us/step\n",
            "5834/5834 [==============================] - 362s 61ms/step - loss: 330.7203 - reconstruction_loss: 306.5859 - kl_loss: 5.5635\n"
          ]
        },
        {
          "output_type": "execute_result",
          "data": {
            "text/plain": [
              "<keras.src.callbacks.History at 0x79f0d956a9e0>"
            ]
          },
          "metadata": {},
          "execution_count": 6
        }
      ]
    },
    {
      "cell_type": "code",
      "source": [
        "import matplotlib.pyplot as plt\n",
        "def plot_label_clusters(encoder, decoder, data, test_lab):\n",
        "\n",
        "    z_mean, _, _ = encoder.predict(data)\n",
        "\n",
        "    plt.figure(figsize =(12, 10))\n",
        "\n",
        "    sc = plt.scatter(z_mean[:, 0], z_mean[:, 1], c = test_lab)\n",
        "\n",
        "    cbar = plt.colorbar(sc, ticks = range(10))\n",
        "\n",
        "    cbar.ax.set_yticklabels([labels.get(i) for i in range(10)])\n",
        "\n",
        "    plt.xlabel(\"z[0]\")\n",
        "\n",
        "    plt.ylabel(\"z[1]\")\n",
        "\n",
        "    plt.show()\n",
        "\n",
        "\n",
        "\n",
        "labels = {0    :\"T-shirt / top\",\n",
        "\n",
        "1:    \"Trouser\",\n",
        "\n",
        "2:    \"Pullover\",\n",
        "\n",
        "3:    \"Dress\",\n",
        "\n",
        "4:    \"Coat\",\n",
        "\n",
        "5:    \"Sandal\",\n",
        "\n",
        "6:    \"Shirt\",\n",
        "\n",
        "7:    \"Sneaker\",\n",
        "\n",
        "8:    \"Bag\",\n",
        "\n",
        "9:    \"Ankle boot\"}\n",
        "\n",
        "\n",
        "(x_train, y_train), _ = keras.datasets.fashion_mnist.load_data()\n",
        "\n",
        "x_train = np.expand_dims(x_train, -1).astype(\"float32\") / 255\n",
        "plot_label_clusters(encoder, decoder, x_train, y_train)"
      ],
      "metadata": {
        "id": "NndUj4tobXWM",
        "colab": {
          "base_uri": "https://localhost:8080/",
          "height": 872
        },
        "outputId": "40ac58d2-fc5b-4de6-b6c9-50a6170a4b8b"
      },
      "execution_count": 8,
      "outputs": [
        {
          "output_type": "stream",
          "name": "stdout",
          "text": [
            "1875/1875 [==============================] - 24s 13ms/step\n"
          ]
        },
        {
          "output_type": "display_data",
          "data": {
            "text/plain": [
              "<Figure size 1200x1000 with 2 Axes>"
            ],
            "image/png": "[encoded data removed]"
          },
          "metadata": {}
        }
      ]
    }
  ]
}